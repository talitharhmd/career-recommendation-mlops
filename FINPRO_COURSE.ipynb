{
  "nbformat": 4,
  "nbformat_minor": 0,
  "metadata": {
    "colab": {
      "provenance": []
    },
    "kernelspec": {
      "name": "python3",
      "display_name": "Python 3"
    },
    "language_info": {
      "name": "python"
    }
  },
  "cells": [
    {
      "cell_type": "markdown",
      "source": [
        "\n",
        "# **Web Scraping Class Central dengan Selenium**\n",
        "---\n",
        "Pada bagian ini, akan dilakukan web scraping dari situs [Class Central](https://www.classcentral.com/subject/cs) menggunakan **Selenium**.\n",
        "\n",
        "Tujuan scraping ini adalah untuk mengambil data kursus seperti judul, provider, rating, bahasa, ketersediaan sertifikat, dan status gratis/berbayar.\n"
      ],
      "metadata": {
        "id": "HqrlaYSUXqBj"
      }
    },
    {
      "cell_type": "code",
      "source": [
        "# Install semua library yang dibutuhkan\n",
        "\n",
        "!pip install requests\n",
        "!pip install selenium\n",
        "!pip install -q google-colab-selenium\n",
        "!pip install nltk\n",
        "!pip install selenium webdriver-manager pandas\n",
        "\n",
        "!apt-get update\n",
        "!wget https://dl.google.com/linux/direct/google-chrome-stable_current_amd64.deb\n",
        "!dpkg -i google-chrome-stable_current_amd64.deb || apt-get install -f -y"
      ],
      "metadata": {
        "trusted": true,
        "execution": {
          "iopub.status.busy": "2025-07-01T07:04:30.104748Z",
          "iopub.execute_input": "2025-07-01T07:04:30.105121Z",
          "iopub.status.idle": "2025-07-01T07:04:48.194161Z",
          "shell.execute_reply.started": "2025-07-01T07:04:30.105061Z",
          "shell.execute_reply": "2025-07-01T07:04:48.193185Z"
        },
        "id": "hbqKMm70zbuq",
        "outputId": "dffdc23e-41e4-4941-cb5e-25e2e800f461",
        "colab": {
          "base_uri": "https://localhost:8080/"
        }
      },
      "outputs": [
        {
          "output_type": "stream",
          "name": "stdout",
          "text": [
            "Requirement already satisfied: requests in /usr/local/lib/python3.11/dist-packages (2.32.3)\n",
            "Requirement already satisfied: charset-normalizer<4,>=2 in /usr/local/lib/python3.11/dist-packages (from requests) (3.4.2)\n",
            "Requirement already satisfied: idna<4,>=2.5 in /usr/local/lib/python3.11/dist-packages (from requests) (3.10)\n",
            "Requirement already satisfied: urllib3<3,>=1.21.1 in /usr/local/lib/python3.11/dist-packages (from requests) (2.5.0)\n",
            "Requirement already satisfied: certifi>=2017.4.17 in /usr/local/lib/python3.11/dist-packages (from requests) (2025.7.14)\n",
            "Requirement already satisfied: selenium in /usr/local/lib/python3.11/dist-packages (4.34.2)\n",
            "Requirement already satisfied: urllib3~=2.5.0 in /usr/local/lib/python3.11/dist-packages (from urllib3[socks]~=2.5.0->selenium) (2.5.0)\n",
            "Requirement already satisfied: trio~=0.30.0 in /usr/local/lib/python3.11/dist-packages (from selenium) (0.30.0)\n",
            "Requirement already satisfied: trio-websocket~=0.12.2 in /usr/local/lib/python3.11/dist-packages (from selenium) (0.12.2)\n",
            "Requirement already satisfied: certifi>=2025.6.15 in /usr/local/lib/python3.11/dist-packages (from selenium) (2025.7.14)\n",
            "Requirement already satisfied: typing_extensions~=4.14.0 in /usr/local/lib/python3.11/dist-packages (from selenium) (4.14.1)\n",
            "Requirement already satisfied: websocket-client~=1.8.0 in /usr/local/lib/python3.11/dist-packages (from selenium) (1.8.0)\n",
            "Requirement already satisfied: attrs>=23.2.0 in /usr/local/lib/python3.11/dist-packages (from trio~=0.30.0->selenium) (25.3.0)\n",
            "Requirement already satisfied: sortedcontainers in /usr/local/lib/python3.11/dist-packages (from trio~=0.30.0->selenium) (2.4.0)\n",
            "Requirement already satisfied: idna in /usr/local/lib/python3.11/dist-packages (from trio~=0.30.0->selenium) (3.10)\n",
            "Requirement already satisfied: outcome in /usr/local/lib/python3.11/dist-packages (from trio~=0.30.0->selenium) (1.3.0.post0)\n",
            "Requirement already satisfied: sniffio>=1.3.0 in /usr/local/lib/python3.11/dist-packages (from trio~=0.30.0->selenium) (1.3.1)\n",
            "Requirement already satisfied: wsproto>=0.14 in /usr/local/lib/python3.11/dist-packages (from trio-websocket~=0.12.2->selenium) (1.2.0)\n",
            "Requirement already satisfied: pysocks!=1.5.7,<2.0,>=1.5.6 in /usr/local/lib/python3.11/dist-packages (from urllib3[socks]~=2.5.0->selenium) (1.7.1)\n",
            "Requirement already satisfied: h11<1,>=0.9.0 in /usr/local/lib/python3.11/dist-packages (from wsproto>=0.14->trio-websocket~=0.12.2->selenium) (0.16.0)\n",
            "Requirement already satisfied: nltk in /usr/local/lib/python3.11/dist-packages (3.9.1)\n",
            "Requirement already satisfied: click in /usr/local/lib/python3.11/dist-packages (from nltk) (8.2.1)\n",
            "Requirement already satisfied: joblib in /usr/local/lib/python3.11/dist-packages (from nltk) (1.5.1)\n",
            "Requirement already satisfied: regex>=2021.8.3 in /usr/local/lib/python3.11/dist-packages (from nltk) (2024.11.6)\n",
            "Requirement already satisfied: tqdm in /usr/local/lib/python3.11/dist-packages (from nltk) (4.67.1)\n",
            "Requirement already satisfied: selenium in /usr/local/lib/python3.11/dist-packages (4.34.2)\n",
            "Requirement already satisfied: webdriver-manager in /usr/local/lib/python3.11/dist-packages (4.0.2)\n",
            "Requirement already satisfied: pandas in /usr/local/lib/python3.11/dist-packages (2.2.2)\n",
            "Requirement already satisfied: urllib3~=2.5.0 in /usr/local/lib/python3.11/dist-packages (from urllib3[socks]~=2.5.0->selenium) (2.5.0)\n",
            "Requirement already satisfied: trio~=0.30.0 in /usr/local/lib/python3.11/dist-packages (from selenium) (0.30.0)\n",
            "Requirement already satisfied: trio-websocket~=0.12.2 in /usr/local/lib/python3.11/dist-packages (from selenium) (0.12.2)\n",
            "Requirement already satisfied: certifi>=2025.6.15 in /usr/local/lib/python3.11/dist-packages (from selenium) (2025.7.14)\n",
            "Requirement already satisfied: typing_extensions~=4.14.0 in /usr/local/lib/python3.11/dist-packages (from selenium) (4.14.1)\n",
            "Requirement already satisfied: websocket-client~=1.8.0 in /usr/local/lib/python3.11/dist-packages (from selenium) (1.8.0)\n",
            "Requirement already satisfied: requests in /usr/local/lib/python3.11/dist-packages (from webdriver-manager) (2.32.3)\n",
            "Requirement already satisfied: python-dotenv in /usr/local/lib/python3.11/dist-packages (from webdriver-manager) (1.1.1)\n",
            "Requirement already satisfied: packaging in /usr/local/lib/python3.11/dist-packages (from webdriver-manager) (25.0)\n",
            "Requirement already satisfied: numpy>=1.23.2 in /usr/local/lib/python3.11/dist-packages (from pandas) (2.0.2)\n",
            "Requirement already satisfied: python-dateutil>=2.8.2 in /usr/local/lib/python3.11/dist-packages (from pandas) (2.9.0.post0)\n",
            "Requirement already satisfied: pytz>=2020.1 in /usr/local/lib/python3.11/dist-packages (from pandas) (2025.2)\n",
            "Requirement already satisfied: tzdata>=2022.7 in /usr/local/lib/python3.11/dist-packages (from pandas) (2025.2)\n",
            "Requirement already satisfied: six>=1.5 in /usr/local/lib/python3.11/dist-packages (from python-dateutil>=2.8.2->pandas) (1.17.0)\n",
            "Requirement already satisfied: attrs>=23.2.0 in /usr/local/lib/python3.11/dist-packages (from trio~=0.30.0->selenium) (25.3.0)\n",
            "Requirement already satisfied: sortedcontainers in /usr/local/lib/python3.11/dist-packages (from trio~=0.30.0->selenium) (2.4.0)\n",
            "Requirement already satisfied: idna in /usr/local/lib/python3.11/dist-packages (from trio~=0.30.0->selenium) (3.10)\n",
            "Requirement already satisfied: outcome in /usr/local/lib/python3.11/dist-packages (from trio~=0.30.0->selenium) (1.3.0.post0)\n",
            "Requirement already satisfied: sniffio>=1.3.0 in /usr/local/lib/python3.11/dist-packages (from trio~=0.30.0->selenium) (1.3.1)\n",
            "Requirement already satisfied: wsproto>=0.14 in /usr/local/lib/python3.11/dist-packages (from trio-websocket~=0.12.2->selenium) (1.2.0)\n",
            "Requirement already satisfied: pysocks!=1.5.7,<2.0,>=1.5.6 in /usr/local/lib/python3.11/dist-packages (from urllib3[socks]~=2.5.0->selenium) (1.7.1)\n",
            "Requirement already satisfied: charset-normalizer<4,>=2 in /usr/local/lib/python3.11/dist-packages (from requests->webdriver-manager) (3.4.2)\n",
            "Requirement already satisfied: h11<1,>=0.9.0 in /usr/local/lib/python3.11/dist-packages (from wsproto>=0.14->trio-websocket~=0.12.2->selenium) (0.16.0)\n",
            "Hit:1 https://cloud.r-project.org/bin/linux/ubuntu jammy-cran40/ InRelease\n",
            "Hit:2 https://dl.google.com/linux/chrome/deb stable InRelease\n",
            "Hit:3 https://developer.download.nvidia.com/compute/cuda/repos/ubuntu2204/x86_64  InRelease\n",
            "Hit:4 http://archive.ubuntu.com/ubuntu jammy InRelease\n",
            "Get:5 http://archive.ubuntu.com/ubuntu jammy-updates InRelease [128 kB]\n",
            "Get:6 http://security.ubuntu.com/ubuntu jammy-security InRelease [129 kB]\n",
            "Hit:7 https://r2u.stat.illinois.edu/ubuntu jammy InRelease\n",
            "Hit:8 http://archive.ubuntu.com/ubuntu jammy-backports InRelease\n",
            "Hit:9 https://ppa.launchpadcontent.net/deadsnakes/ppa/ubuntu jammy InRelease\n",
            "Hit:10 https://ppa.launchpadcontent.net/graphics-drivers/ppa/ubuntu jammy InRelease\n",
            "Get:11 http://security.ubuntu.com/ubuntu jammy-security/universe amd64 Packages [1,268 kB]\n",
            "Hit:12 https://ppa.launchpadcontent.net/ubuntugis/ppa/ubuntu jammy InRelease\n",
            "Get:13 http://security.ubuntu.com/ubuntu jammy-security/main amd64 Packages [3,159 kB]\n",
            "Get:14 http://security.ubuntu.com/ubuntu jammy-security/restricted amd64 Packages [4,976 kB]\n",
            "Fetched 9,660 kB in 3s (3,652 kB/s)\n",
            "Reading package lists... Done\n",
            "W: Skipping acquire of configured file 'main/source/Sources' as repository 'https://r2u.stat.illinois.edu/ubuntu jammy InRelease' does not seem to provide it (sources.list entry misspelt?)\n",
            "--2025-07-22 14:24:54--  https://dl.google.com/linux/direct/google-chrome-stable_current_amd64.deb\n",
            "Resolving dl.google.com (dl.google.com)... 74.125.135.136, 74.125.135.93, 74.125.135.91, ...\n",
            "Connecting to dl.google.com (dl.google.com)|74.125.135.136|:443... connected.\n",
            "HTTP request sent, awaiting response... 200 OK\n",
            "Length: 118188228 (113M) [application/x-debian-package]\n",
            "Saving to: ‘google-chrome-stable_current_amd64.deb.6’\n",
            "\n",
            "google-chrome-stabl 100%[===================>] 112.71M   321MB/s    in 0.4s    \n",
            "\n",
            "2025-07-22 14:24:55 (321 MB/s) - ‘google-chrome-stable_current_amd64.deb.6’ saved [118188228/118188228]\n",
            "\n",
            "(Reading database ... 126440 files and directories currently installed.)\n",
            "Preparing to unpack google-chrome-stable_current_amd64.deb ...\n",
            "Unpacking google-chrome-stable (138.0.7204.157-1) over (138.0.7204.157-1) ...\n",
            "Setting up google-chrome-stable (138.0.7204.157-1) ...\n",
            "Processing triggers for mailcap (3.70+nmu1ubuntu1) ...\n",
            "Processing triggers for man-db (2.10.2-1) ...\n"
          ]
        }
      ],
      "execution_count": null
    },
    {
      "cell_type": "code",
      "source": [
        "import requests\n",
        "import selenium\n",
        "import nltk\n",
        "import random\n",
        "import time\n",
        "import pandas as pd\n",
        "import logging\n",
        "import string\n",
        "import json\n",
        "print(\"All libraries installed successfully!\")"
      ],
      "metadata": {
        "trusted": true,
        "execution": {
          "iopub.status.busy": "2025-07-01T07:04:48.195963Z",
          "iopub.execute_input": "2025-07-01T07:04:48.196755Z",
          "iopub.status.idle": "2025-07-01T07:04:48.226847Z",
          "shell.execute_reply.started": "2025-07-01T07:04:48.196723Z",
          "shell.execute_reply": "2025-07-01T07:04:48.225624Z"
        },
        "id": "6xE9ak8Xzbus",
        "outputId": "a83ff2a7-41db-4d8d-dd27-a3196a99fc60",
        "colab": {
          "base_uri": "https://localhost:8080/"
        }
      },
      "outputs": [
        {
          "output_type": "stream",
          "name": "stdout",
          "text": [
            "All libraries installed successfully!\n"
          ]
        }
      ],
      "execution_count": null
    },
    {
      "cell_type": "markdown",
      "source": [
        "# **1. Data Collection**"
      ],
      "metadata": {
        "id": "AvONXVcLzbus"
      }
    },
    {
      "cell_type": "markdown",
      "source": [
        "Install library terkait dan menyiapkan ChromeDriver di Google Colab.\n",
        "\n",
        "Karena Colab berjalan di server dan bukan di komputer lokal, kita perlu menjalankan Chrome dalam mode headless (tanpa tampilan GUI). Kita juga menggunakan `webdriver-manager` untuk mengelola ChromeDriver secara otomatis.\n"
      ],
      "metadata": {
        "id": "Xc9OTOFcoXjj"
      }
    },
    {
      "cell_type": "code",
      "source": [
        "from selenium import webdriver\n",
        "from selenium.webdriver.common.by import By\n",
        "from selenium.webdriver.chrome.service import Service\n",
        "from selenium.webdriver.chrome.options import Options\n",
        "from selenium.webdriver.support.ui import WebDriverWait\n",
        "from selenium.webdriver.support import expected_conditions as EC\n",
        "from selenium.common.exceptions import TimeoutException, NoSuchElementException\n",
        "from webdriver_manager.chrome import ChromeDriverManager\n",
        "\n",
        "import copy\n",
        "import google_colab_selenium as gs"
      ],
      "metadata": {
        "id": "9MxfrdxCxWs1"
      },
      "execution_count": null,
      "outputs": []
    },
    {
      "cell_type": "code",
      "source": [
        "# Menyiapkan konfigurasi logging untuk memantau proses scraping\n",
        "logging.basicConfig(level=logging.INFO, format='%(asctime)s - %(levelname)s - %(message)s')"
      ],
      "metadata": {
        "id": "VI9Dvmo-uL4K"
      },
      "execution_count": null,
      "outputs": []
    },
    {
      "cell_type": "code",
      "source": [
        "def setup():\n",
        "\n",
        "  # Fungsi untuk menyiapkan dan mengembalikan WebDriver (Chrome) di Google Colab.\n",
        "  # Menggunakan opsi headless dan beberapa flags tambahan agar dapat berjalan stabil.\n",
        "\n",
        "  logging.info(\"Menyiapkan WebDriver untuk lingkungan Google Colab...\")\n",
        "  chrome_options = Options()\n",
        "  chrome_options.add_argument(\"--headless\")  # Menjalankan Chrome tanpa GUI\n",
        "  chrome_options.add_argument(\"--no-sandbox\")\n",
        "  chrome_options.add_argument(\"--disable-dev-shm-usage\")\n",
        "  chrome_options.add_argument(\"--window-size=1920,1080\")\n",
        "  chrome_options.add_argument(\"user-agent=Mozilla/5.0 (Windows NT 10.0; Win64; x64) AppleWebKit/537.36 (KHTML, like Gecko) Chrome/91.0.4472.124 Safari/537.36\")\n",
        "\n",
        "  # Inisialisasi WebDriver menggunakan ChromeDriverManager\n",
        "  driver = webdriver.Chrome(service=Service(ChromeDriverManager().install()), options=chrome_options)\n",
        "  logging.info(\"WebDriver berhasil disiapkan.\")\n",
        "  return driver"
      ],
      "metadata": {
        "id": "oYGR2eb3t7n-"
      },
      "execution_count": null,
      "outputs": []
    },
    {
      "cell_type": "markdown",
      "source": [
        "## Scraping Data Class Central\n",
        "\n",
        "Mengambil data dari 100 halaman di situs Class Central. Untuk setiap kursus, kita ambil informasi:\n",
        "- Judul kursus\n",
        "- Kategori Kursus\n",
        "- Provider/platform\n",
        "- Bahasa\n",
        "- Sertifikat (tersedia/tidak)\n",
        "- Rating rata-rata\n",
        "- Status (gratis atau tidak)\n",
        "- Jumlah ulasan\n",
        "- Durasi Kursus\n",
        "- Overview\n",
        "- Link ke kursus\n",
        "\n",
        "\n",
        "\n",
        "---\n",
        "\n",
        "\n",
        "\n",
        "Menggunakan struktur HTML dan atribut `data-track-props` untuk mengekstrak informasi tersebut.\n"
      ],
      "metadata": {
        "id": "yQxeCRlMZYnq"
      }
    },
    {
      "cell_type": "code",
      "source": [
        "def scrape_classcentral(driver, urls_to_scrape):\n",
        "\n",
        "    # Melakukan scraping dari halaman-halaman Class Central berdasarkan URL dasar.\n",
        "\n",
        "    all_courses_data = []\n",
        "    for subject, base_url in urls_to_scrape.items():\n",
        "      logging.info(f\"===== Memulai scraping untuk subjek: {subject.upper()} =====\")\n",
        "\n",
        "      for page in range(1, 101):  # Halaman 1 sampai 100\n",
        "            url = f\"{base_url}?page={page}\"\n",
        "            logging.info(f\"Scraping halaman {page}: {url}\")\n",
        "            driver.get(url)\n",
        "            time.sleep(3)  # Jeda untuk memberi waktu halaman loading\n",
        "\n",
        "            # Cari semua elemen yang merupakan nama kursus\n",
        "            course_cards = driver.find_elements(By.CSS_SELECTOR, 'li.course-list-course')\n",
        "            logging.info(f\"Halaman {page}: ditemukan {len(course_cards)} kursus.\")\n",
        "\n",
        "            for card in course_cards:\n",
        "                try:\n",
        "                    # Cari judul di dalam 'kartu' kursus\n",
        "                    title_elem = card.find_element(By.CSS_SELECTOR, 'a.color-charcoal.course-name')\n",
        "                    # Ambil teks judul dan link\n",
        "                    title = title_elem.text.strip()\n",
        "                    link = title_elem.get_attribute('href')\n",
        "\n",
        "                    # Ambil atribut JSON tersembunyi untuk informasi tambahan\n",
        "                    data_props_raw = title_elem.get_attribute('data-track-props')\n",
        "                    data_props = json.loads(data_props_raw)\n",
        "\n",
        "                    provider = data_props.get(\"course_provider\", \"Unknown\")\n",
        "\n",
        "                    # Certificate & Price Formatting\n",
        "                    certificate = \"Certificate Available\" if data_props.get(\"course_certificate\", False) else \"No Certificate\"\n",
        "\n",
        "                    language = data_props.get(\"course_language\", \"N/A\")\n",
        "                    avg_rating = round(data_props.get(\"course_avg_rating\", 0.0), 1)\n",
        "\n",
        "                    is_free = data_props.get(\"course_is_free\", False)\n",
        "                    price_type = \"Free\" if is_free else \"Paid\"\n",
        "\n",
        "                    overview_elem = card.find_element(By.CSS_SELECTOR, 'a.color-charcoal.block.hover-no-underline.break-word')\n",
        "                    course_overview = overview_elem.text.strip() if overview_elem else \"\"\n",
        "\n",
        "                    # Ambil container untuk durasi (parent element dua tingkat ke atas)\n",
        "                    try:\n",
        "                        # Kita cari elemen durasi di dalam 'card' yang sudah kita temukan\n",
        "                        duration_elem = card.find_element(By.CSS_SELECTOR, 'span[aria-label=\"Workload and duration\"]')\n",
        "                        duration = duration_elem.text.strip()\n",
        "                    except:\n",
        "                        duration = \"N/A\" # Fallback jika tidak ditemukan\n",
        "\n",
        "                    try:\n",
        "                        # Coba ambil teks ulasan\n",
        "                        reviews = title_elem.find_element(By.XPATH, '../..').find_element(By.CSS_SELECTOR, 'span.color-gray').text.strip()\n",
        "                    except:\n",
        "                        reviews = \"0 reviews\"\n",
        "\n",
        "                    # Simpan data ke list\n",
        "                    all_courses_data.append({\n",
        "                        'title': title,\n",
        "                        'category': subject,\n",
        "                        'provider': provider,\n",
        "                        'language': language,\n",
        "                        'certificate': certificate,\n",
        "                        'avg_rating': avg_rating,\n",
        "                        'price_type': price_type,\n",
        "                        'reviews': reviews,\n",
        "                        'duration': duration,\n",
        "                        'overview': course_overview,\n",
        "                        'link': f\"https://www.classcentral.com{link}\"\n",
        "                    })\n",
        "\n",
        "                except Exception as e:\n",
        "                    logging.warning(f\"Error saat membaca 1 kursus di halaman {page}: {e}\")\n",
        "                    continue\n",
        "\n",
        "    # Konversi hasil scraping ke DataFrame\n",
        "    return pd.DataFrame(all_courses_data)\n"
      ],
      "metadata": {
        "id": "V6Adti-1sgAi"
      },
      "execution_count": null,
      "outputs": []
    },
    {
      "cell_type": "code",
      "source": [
        "# Inisialisasi WebDriver\n",
        "driver = setup()"
      ],
      "metadata": {
        "id": "a5CiIYjFy9er"
      },
      "execution_count": null,
      "outputs": []
    },
    {
      "cell_type": "code",
      "source": [
        "driver = None\n",
        "try:\n",
        "    driver = setup()\n",
        "\n",
        "    target_urls = {\n",
        "        \"Data Science\": \"https://www.classcentral.com/subject/data-science\",\n",
        "        \"Machine Learning\": \"https://www.classcentral.com/subject/machine-learning\",\n",
        "        \"Data Analysis\": \"https://www.classcentral.com/subject/data-analysis\",\n",
        "        \"Data Engineering\": \"https://www.classcentral.com/subject/data-engineering\",\n",
        "        \"Computer Science\": \"https://www.classcentral.com/subject/cs\"\n",
        "    }\n",
        "\n",
        "    scraped_data = scrape_classcentral(driver, target_urls)\n",
        "\n",
        "    if not scraped_data.empty:\n",
        "        scraped_data.drop_duplicates(subset=['title', 'provider'], inplace=True, keep='first')\n",
        "\n",
        "        new_column_names = {\n",
        "            'title': 'Title',\n",
        "            'category': 'Category',\n",
        "            'provider': 'Provider',\n",
        "            'language': 'Language',\n",
        "            'certificate': 'Certificate',\n",
        "            'avg_rating': 'Average Rating',\n",
        "            'price_type': 'Price Type',\n",
        "            'reviews': 'Reviews',\n",
        "            'duration': 'Duration',\n",
        "            'overview': 'Overview',\n",
        "            'link': 'Link'\n",
        "        }\n",
        "\n",
        "        scraped_data.rename(columns=new_column_names, inplace=True)\n",
        "        logging.info(\"Nama kolom berhasil diubah.\")\n",
        "\n",
        "        # Simpan ke CSV dengan nama kolom yang sudah baru\n",
        "        output_file_csv = 'courses_data.csv'\n",
        "        scraped_data.to_csv(output_file_csv, index=False)\n",
        "\n",
        "        print(f\"\\n✅ Scraping selesai. Data disimpan ke: '{output_file_csv}'\")\n",
        "        print(\"Contoh 5 baris pertama data dengan header baru:\")\n",
        "        print(scraped_data.head())\n",
        "    else:\n",
        "        logging.warning(\"Scraping tidak menghasilkan data.\")\n",
        "\n",
        "finally:\n",
        "    if driver:\n",
        "        driver.quit()\n",
        "        logging.info(\"WebDriver ditutup.\")"
      ],
      "metadata": {
        "id": "haIJhDqyAukS",
        "colab": {
          "base_uri": "https://localhost:8080/"
        },
        "outputId": "55d84a8b-cec5-4d3e-84c1-c4985b8831a9"
      },
      "execution_count": null,
      "outputs": [
        {
          "output_type": "stream",
          "name": "stdout",
          "text": [
            "\n",
            "✅ Scraping selesai. Data disimpan ke: 'courses_data.csv'\n",
            "Contoh 5 baris pertama data dengan header baru:\n",
            "                                      Title      Category  Provider Language  \\\n",
            "0    Introduction to Data Science in Python  Data Science  Coursera  English   \n",
            "1            A Crash Course in Data Science  Data Science  Coursera  English   \n",
            "2                   Python for Data Science  Data Science       edX  English   \n",
            "3                  Data Science Math Skills  Data Science  Coursera  English   \n",
            "4  Programming for Data Science with Python  Data Science   Udacity  English   \n",
            "\n",
            "             Certificate  Average Rating Price Type     Reviews  \\\n",
            "0  Certificate Available             2.4       Free  46 reviews   \n",
            "1  Certificate Available             3.6       Free  25 reviews   \n",
            "2         No Certificate             4.4       Free  48 reviews   \n",
            "3  Certificate Available             4.1       Free  12 reviews   \n",
            "4  Certificate Available             4.8       Paid  28 reviews   \n",
            "\n",
            "                                     Duration  \\\n",
            "0                   1 day 10 hours 52 minutes   \n",
            "1                           6 hours 4 minutes   \n",
            "2                 10 weeks, 8-10 hours a week   \n",
            "3                         13 hours 20 minutes   \n",
            "4  2 months 2 weeks 4 days 8 hours 43 minutes   \n",
            "\n",
            "                                            Overview  \\\n",
            "0  Learn Python fundamentals, data manipulation w...   \n",
            "1  Rapid introduction to data science essentials,...   \n",
            "2  Learn to use powerful, open-source, Python too...   \n",
            "3  Master essential math concepts for data scienc...   \n",
            "4  Master SQL, Python, and version control for da...   \n",
            "\n",
            "                                                Link  \n",
            "0  https://www.classcentral.comhttps://www.classc...  \n",
            "1  https://www.classcentral.comhttps://www.classc...  \n",
            "2  https://www.classcentral.comhttps://www.classc...  \n",
            "3  https://www.classcentral.comhttps://www.classc...  \n",
            "4  https://www.classcentral.comhttps://www.classc...  \n"
          ]
        }
      ]
    },
    {
      "cell_type": "code",
      "source": [
        "import plotly.express as px\n",
        "\n",
        "# ============================================\n",
        "#   JUMLAH KURSUS YANG DI-SCRAPE PER KATEGORI\n",
        "# ============================================\n",
        "\n",
        "try:\n",
        "    df = pd.read_csv('courses_data.csv')\n",
        "\n",
        "    # Hitung jumlah kursus untuk setiap kategori\n",
        "    category_counts = df['Category'].value_counts().reset_index()\n",
        "    category_counts.columns = ['Kategori', 'Jumlah Kursus']\n",
        "\n",
        "    print(\"\\n--- Distribusi Kursus per Kategori ---\")\n",
        "    print(category_counts)\n",
        "\n",
        "    # Buat bar chart interaktif dengan Plotly\n",
        "    fig = px.bar(\n",
        "        category_counts,\n",
        "        x='Kategori',\n",
        "        y='Jumlah Kursus',\n",
        "        title='Jumlah Kursus yang Di-scrape Berdasarkan Kategori',\n",
        "        text='Jumlah Kursus',\n",
        "        color='Kategori'\n",
        "    )\n",
        "\n",
        "    fig.update_layout(\n",
        "        xaxis_title=\"Kategori Kursus\",\n",
        "        yaxis_title=\"Jumlah Total Kursus\"\n",
        "    )\n",
        "\n",
        "    fig.show()\n",
        "\n",
        "except FileNotFoundError:\n",
        "    print(\"File 'courses_data_final.csv' tidak ditemukan. Pastikan Anda sudah menjalankan skrip scraping yang diperbaiki.\")"
      ],
      "metadata": {
        "id": "JhqPBmlqO_Ra",
        "colab": {
          "base_uri": "https://localhost:8080/",
          "height": 681
        },
        "outputId": "a9516bc0-604d-4812-be9d-5d6240b5ce69"
      },
      "execution_count": null,
      "outputs": [
        {
          "output_type": "stream",
          "name": "stdout",
          "text": [
            "\n",
            "--- Distribusi Kursus per Kategori ---\n",
            "           Kategori  Jumlah Kursus\n",
            "0      Data Science           1462\n",
            "1  Machine Learning           1407\n",
            "2  Data Engineering           1405\n",
            "3  Computer Science           1357\n",
            "4     Data Analysis           1288\n"
          ]
        },
        {
          "output_type": "display_data",
          "data": {
            "text/html": [
              "<html>\n",
              "<head><meta charset=\"utf-8\" /></head>\n",
              "<body>\n",
              "    <div>            <script src=\"https://cdnjs.cloudflare.com/ajax/libs/mathjax/2.7.5/MathJax.js?config=TeX-AMS-MML_SVG\"></script><script type=\"text/javascript\">if (window.MathJax && window.MathJax.Hub && window.MathJax.Hub.Config) {window.MathJax.Hub.Config({SVG: {font: \"STIX-Web\"}});}</script>                <script type=\"text/javascript\">window.PlotlyConfig = {MathJaxConfig: 'local'};</script>\n",
              "        <script charset=\"utf-8\" src=\"https://cdn.plot.ly/plotly-2.35.2.min.js\"></script>                <div id=\"1b7e76d1-562c-4ebf-91cc-328c7688837f\" class=\"plotly-graph-div\" style=\"height:525px; width:100%;\"></div>            <script type=\"text/javascript\">                                    window.PLOTLYENV=window.PLOTLYENV || {};                                    if (document.getElementById(\"1b7e76d1-562c-4ebf-91cc-328c7688837f\")) {                    Plotly.newPlot(                        \"1b7e76d1-562c-4ebf-91cc-328c7688837f\",                        [{\"alignmentgroup\":\"True\",\"hovertemplate\":\"Kategori=%{x}\\u003cbr\\u003eJumlah Kursus=%{text}\\u003cextra\\u003e\\u003c\\u002fextra\\u003e\",\"legendgroup\":\"Data Science\",\"marker\":{\"color\":\"#636efa\",\"pattern\":{\"shape\":\"\"}},\"name\":\"Data Science\",\"offsetgroup\":\"Data Science\",\"orientation\":\"v\",\"showlegend\":true,\"text\":[1462.0],\"textposition\":\"auto\",\"x\":[\"Data Science\"],\"xaxis\":\"x\",\"y\":[1462],\"yaxis\":\"y\",\"type\":\"bar\"},{\"alignmentgroup\":\"True\",\"hovertemplate\":\"Kategori=%{x}\\u003cbr\\u003eJumlah Kursus=%{text}\\u003cextra\\u003e\\u003c\\u002fextra\\u003e\",\"legendgroup\":\"Machine Learning\",\"marker\":{\"color\":\"#EF553B\",\"pattern\":{\"shape\":\"\"}},\"name\":\"Machine Learning\",\"offsetgroup\":\"Machine Learning\",\"orientation\":\"v\",\"showlegend\":true,\"text\":[1407.0],\"textposition\":\"auto\",\"x\":[\"Machine Learning\"],\"xaxis\":\"x\",\"y\":[1407],\"yaxis\":\"y\",\"type\":\"bar\"},{\"alignmentgroup\":\"True\",\"hovertemplate\":\"Kategori=%{x}\\u003cbr\\u003eJumlah Kursus=%{text}\\u003cextra\\u003e\\u003c\\u002fextra\\u003e\",\"legendgroup\":\"Data Engineering\",\"marker\":{\"color\":\"#00cc96\",\"pattern\":{\"shape\":\"\"}},\"name\":\"Data Engineering\",\"offsetgroup\":\"Data Engineering\",\"orientation\":\"v\",\"showlegend\":true,\"text\":[1405.0],\"textposition\":\"auto\",\"x\":[\"Data Engineering\"],\"xaxis\":\"x\",\"y\":[1405],\"yaxis\":\"y\",\"type\":\"bar\"},{\"alignmentgroup\":\"True\",\"hovertemplate\":\"Kategori=%{x}\\u003cbr\\u003eJumlah Kursus=%{text}\\u003cextra\\u003e\\u003c\\u002fextra\\u003e\",\"legendgroup\":\"Computer Science\",\"marker\":{\"color\":\"#ab63fa\",\"pattern\":{\"shape\":\"\"}},\"name\":\"Computer Science\",\"offsetgroup\":\"Computer Science\",\"orientation\":\"v\",\"showlegend\":true,\"text\":[1357.0],\"textposition\":\"auto\",\"x\":[\"Computer Science\"],\"xaxis\":\"x\",\"y\":[1357],\"yaxis\":\"y\",\"type\":\"bar\"},{\"alignmentgroup\":\"True\",\"hovertemplate\":\"Kategori=%{x}\\u003cbr\\u003eJumlah Kursus=%{text}\\u003cextra\\u003e\\u003c\\u002fextra\\u003e\",\"legendgroup\":\"Data Analysis\",\"marker\":{\"color\":\"#FFA15A\",\"pattern\":{\"shape\":\"\"}},\"name\":\"Data Analysis\",\"offsetgroup\":\"Data Analysis\",\"orientation\":\"v\",\"showlegend\":true,\"text\":[1288.0],\"textposition\":\"auto\",\"x\":[\"Data Analysis\"],\"xaxis\":\"x\",\"y\":[1288],\"yaxis\":\"y\",\"type\":\"bar\"}],                        {\"template\":{\"data\":{\"histogram2dcontour\":[{\"type\":\"histogram2dcontour\",\"colorbar\":{\"outlinewidth\":0,\"ticks\":\"\"},\"colorscale\":[[0.0,\"#0d0887\"],[0.1111111111111111,\"#46039f\"],[0.2222222222222222,\"#7201a8\"],[0.3333333333333333,\"#9c179e\"],[0.4444444444444444,\"#bd3786\"],[0.5555555555555556,\"#d8576b\"],[0.6666666666666666,\"#ed7953\"],[0.7777777777777778,\"#fb9f3a\"],[0.8888888888888888,\"#fdca26\"],[1.0,\"#f0f921\"]]}],\"choropleth\":[{\"type\":\"choropleth\",\"colorbar\":{\"outlinewidth\":0,\"ticks\":\"\"}}],\"histogram2d\":[{\"type\":\"histogram2d\",\"colorbar\":{\"outlinewidth\":0,\"ticks\":\"\"},\"colorscale\":[[0.0,\"#0d0887\"],[0.1111111111111111,\"#46039f\"],[0.2222222222222222,\"#7201a8\"],[0.3333333333333333,\"#9c179e\"],[0.4444444444444444,\"#bd3786\"],[0.5555555555555556,\"#d8576b\"],[0.6666666666666666,\"#ed7953\"],[0.7777777777777778,\"#fb9f3a\"],[0.8888888888888888,\"#fdca26\"],[1.0,\"#f0f921\"]]}],\"heatmap\":[{\"type\":\"heatmap\",\"colorbar\":{\"outlinewidth\":0,\"ticks\":\"\"},\"colorscale\":[[0.0,\"#0d0887\"],[0.1111111111111111,\"#46039f\"],[0.2222222222222222,\"#7201a8\"],[0.3333333333333333,\"#9c179e\"],[0.4444444444444444,\"#bd3786\"],[0.5555555555555556,\"#d8576b\"],[0.6666666666666666,\"#ed7953\"],[0.7777777777777778,\"#fb9f3a\"],[0.8888888888888888,\"#fdca26\"],[1.0,\"#f0f921\"]]}],\"heatmapgl\":[{\"type\":\"heatmapgl\",\"colorbar\":{\"outlinewidth\":0,\"ticks\":\"\"},\"colorscale\":[[0.0,\"#0d0887\"],[0.1111111111111111,\"#46039f\"],[0.2222222222222222,\"#7201a8\"],[0.3333333333333333,\"#9c179e\"],[0.4444444444444444,\"#bd3786\"],[0.5555555555555556,\"#d8576b\"],[0.6666666666666666,\"#ed7953\"],[0.7777777777777778,\"#fb9f3a\"],[0.8888888888888888,\"#fdca26\"],[1.0,\"#f0f921\"]]}],\"contourcarpet\":[{\"type\":\"contourcarpet\",\"colorbar\":{\"outlinewidth\":0,\"ticks\":\"\"}}],\"contour\":[{\"type\":\"contour\",\"colorbar\":{\"outlinewidth\":0,\"ticks\":\"\"},\"colorscale\":[[0.0,\"#0d0887\"],[0.1111111111111111,\"#46039f\"],[0.2222222222222222,\"#7201a8\"],[0.3333333333333333,\"#9c179e\"],[0.4444444444444444,\"#bd3786\"],[0.5555555555555556,\"#d8576b\"],[0.6666666666666666,\"#ed7953\"],[0.7777777777777778,\"#fb9f3a\"],[0.8888888888888888,\"#fdca26\"],[1.0,\"#f0f921\"]]}],\"surface\":[{\"type\":\"surface\",\"colorbar\":{\"outlinewidth\":0,\"ticks\":\"\"},\"colorscale\":[[0.0,\"#0d0887\"],[0.1111111111111111,\"#46039f\"],[0.2222222222222222,\"#7201a8\"],[0.3333333333333333,\"#9c179e\"],[0.4444444444444444,\"#bd3786\"],[0.5555555555555556,\"#d8576b\"],[0.6666666666666666,\"#ed7953\"],[0.7777777777777778,\"#fb9f3a\"],[0.8888888888888888,\"#fdca26\"],[1.0,\"#f0f921\"]]}],\"mesh3d\":[{\"type\":\"mesh3d\",\"colorbar\":{\"outlinewidth\":0,\"ticks\":\"\"}}],\"scatter\":[{\"fillpattern\":{\"fillmode\":\"overlay\",\"size\":10,\"solidity\":0.2},\"type\":\"scatter\"}],\"parcoords\":[{\"type\":\"parcoords\",\"line\":{\"colorbar\":{\"outlinewidth\":0,\"ticks\":\"\"}}}],\"scatterpolargl\":[{\"type\":\"scatterpolargl\",\"marker\":{\"colorbar\":{\"outlinewidth\":0,\"ticks\":\"\"}}}],\"bar\":[{\"error_x\":{\"color\":\"#2a3f5f\"},\"error_y\":{\"color\":\"#2a3f5f\"},\"marker\":{\"line\":{\"color\":\"#E5ECF6\",\"width\":0.5},\"pattern\":{\"fillmode\":\"overlay\",\"size\":10,\"solidity\":0.2}},\"type\":\"bar\"}],\"scattergeo\":[{\"type\":\"scattergeo\",\"marker\":{\"colorbar\":{\"outlinewidth\":0,\"ticks\":\"\"}}}],\"scatterpolar\":[{\"type\":\"scatterpolar\",\"marker\":{\"colorbar\":{\"outlinewidth\":0,\"ticks\":\"\"}}}],\"histogram\":[{\"marker\":{\"pattern\":{\"fillmode\":\"overlay\",\"size\":10,\"solidity\":0.2}},\"type\":\"histogram\"}],\"scattergl\":[{\"type\":\"scattergl\",\"marker\":{\"colorbar\":{\"outlinewidth\":0,\"ticks\":\"\"}}}],\"scatter3d\":[{\"type\":\"scatter3d\",\"line\":{\"colorbar\":{\"outlinewidth\":0,\"ticks\":\"\"}},\"marker\":{\"colorbar\":{\"outlinewidth\":0,\"ticks\":\"\"}}}],\"scattermapbox\":[{\"type\":\"scattermapbox\",\"marker\":{\"colorbar\":{\"outlinewidth\":0,\"ticks\":\"\"}}}],\"scatterternary\":[{\"type\":\"scatterternary\",\"marker\":{\"colorbar\":{\"outlinewidth\":0,\"ticks\":\"\"}}}],\"scattercarpet\":[{\"type\":\"scattercarpet\",\"marker\":{\"colorbar\":{\"outlinewidth\":0,\"ticks\":\"\"}}}],\"carpet\":[{\"aaxis\":{\"endlinecolor\":\"#2a3f5f\",\"gridcolor\":\"white\",\"linecolor\":\"white\",\"minorgridcolor\":\"white\",\"startlinecolor\":\"#2a3f5f\"},\"baxis\":{\"endlinecolor\":\"#2a3f5f\",\"gridcolor\":\"white\",\"linecolor\":\"white\",\"minorgridcolor\":\"white\",\"startlinecolor\":\"#2a3f5f\"},\"type\":\"carpet\"}],\"table\":[{\"cells\":{\"fill\":{\"color\":\"#EBF0F8\"},\"line\":{\"color\":\"white\"}},\"header\":{\"fill\":{\"color\":\"#C8D4E3\"},\"line\":{\"color\":\"white\"}},\"type\":\"table\"}],\"barpolar\":[{\"marker\":{\"line\":{\"color\":\"#E5ECF6\",\"width\":0.5},\"pattern\":{\"fillmode\":\"overlay\",\"size\":10,\"solidity\":0.2}},\"type\":\"barpolar\"}],\"pie\":[{\"automargin\":true,\"type\":\"pie\"}]},\"layout\":{\"autotypenumbers\":\"strict\",\"colorway\":[\"#636efa\",\"#EF553B\",\"#00cc96\",\"#ab63fa\",\"#FFA15A\",\"#19d3f3\",\"#FF6692\",\"#B6E880\",\"#FF97FF\",\"#FECB52\"],\"font\":{\"color\":\"#2a3f5f\"},\"hovermode\":\"closest\",\"hoverlabel\":{\"align\":\"left\"},\"paper_bgcolor\":\"white\",\"plot_bgcolor\":\"#E5ECF6\",\"polar\":{\"bgcolor\":\"#E5ECF6\",\"angularaxis\":{\"gridcolor\":\"white\",\"linecolor\":\"white\",\"ticks\":\"\"},\"radialaxis\":{\"gridcolor\":\"white\",\"linecolor\":\"white\",\"ticks\":\"\"}},\"ternary\":{\"bgcolor\":\"#E5ECF6\",\"aaxis\":{\"gridcolor\":\"white\",\"linecolor\":\"white\",\"ticks\":\"\"},\"baxis\":{\"gridcolor\":\"white\",\"linecolor\":\"white\",\"ticks\":\"\"},\"caxis\":{\"gridcolor\":\"white\",\"linecolor\":\"white\",\"ticks\":\"\"}},\"coloraxis\":{\"colorbar\":{\"outlinewidth\":0,\"ticks\":\"\"}},\"colorscale\":{\"sequential\":[[0.0,\"#0d0887\"],[0.1111111111111111,\"#46039f\"],[0.2222222222222222,\"#7201a8\"],[0.3333333333333333,\"#9c179e\"],[0.4444444444444444,\"#bd3786\"],[0.5555555555555556,\"#d8576b\"],[0.6666666666666666,\"#ed7953\"],[0.7777777777777778,\"#fb9f3a\"],[0.8888888888888888,\"#fdca26\"],[1.0,\"#f0f921\"]],\"sequentialminus\":[[0.0,\"#0d0887\"],[0.1111111111111111,\"#46039f\"],[0.2222222222222222,\"#7201a8\"],[0.3333333333333333,\"#9c179e\"],[0.4444444444444444,\"#bd3786\"],[0.5555555555555556,\"#d8576b\"],[0.6666666666666666,\"#ed7953\"],[0.7777777777777778,\"#fb9f3a\"],[0.8888888888888888,\"#fdca26\"],[1.0,\"#f0f921\"]],\"diverging\":[[0,\"#8e0152\"],[0.1,\"#c51b7d\"],[0.2,\"#de77ae\"],[0.3,\"#f1b6da\"],[0.4,\"#fde0ef\"],[0.5,\"#f7f7f7\"],[0.6,\"#e6f5d0\"],[0.7,\"#b8e186\"],[0.8,\"#7fbc41\"],[0.9,\"#4d9221\"],[1,\"#276419\"]]},\"xaxis\":{\"gridcolor\":\"white\",\"linecolor\":\"white\",\"ticks\":\"\",\"title\":{\"standoff\":15},\"zerolinecolor\":\"white\",\"automargin\":true,\"zerolinewidth\":2},\"yaxis\":{\"gridcolor\":\"white\",\"linecolor\":\"white\",\"ticks\":\"\",\"title\":{\"standoff\":15},\"zerolinecolor\":\"white\",\"automargin\":true,\"zerolinewidth\":2},\"scene\":{\"xaxis\":{\"backgroundcolor\":\"#E5ECF6\",\"gridcolor\":\"white\",\"linecolor\":\"white\",\"showbackground\":true,\"ticks\":\"\",\"zerolinecolor\":\"white\",\"gridwidth\":2},\"yaxis\":{\"backgroundcolor\":\"#E5ECF6\",\"gridcolor\":\"white\",\"linecolor\":\"white\",\"showbackground\":true,\"ticks\":\"\",\"zerolinecolor\":\"white\",\"gridwidth\":2},\"zaxis\":{\"backgroundcolor\":\"#E5ECF6\",\"gridcolor\":\"white\",\"linecolor\":\"white\",\"showbackground\":true,\"ticks\":\"\",\"zerolinecolor\":\"white\",\"gridwidth\":2}},\"shapedefaults\":{\"line\":{\"color\":\"#2a3f5f\"}},\"annotationdefaults\":{\"arrowcolor\":\"#2a3f5f\",\"arrowhead\":0,\"arrowwidth\":1},\"geo\":{\"bgcolor\":\"white\",\"landcolor\":\"#E5ECF6\",\"subunitcolor\":\"white\",\"showland\":true,\"showlakes\":true,\"lakecolor\":\"white\"},\"title\":{\"x\":0.05},\"mapbox\":{\"style\":\"light\"}}},\"xaxis\":{\"anchor\":\"y\",\"domain\":[0.0,1.0],\"title\":{\"text\":\"Kategori Kursus\"},\"categoryorder\":\"array\",\"categoryarray\":[\"Data Science\",\"Machine Learning\",\"Data Engineering\",\"Computer Science\",\"Data Analysis\"]},\"yaxis\":{\"anchor\":\"x\",\"domain\":[0.0,1.0],\"title\":{\"text\":\"Jumlah Total Kursus\"}},\"legend\":{\"title\":{\"text\":\"Kategori\"},\"tracegroupgap\":0},\"title\":{\"text\":\"Jumlah Kursus yang Di-scrape Berdasarkan Kategori\"},\"barmode\":\"relative\"},                        {\"responsive\": true}                    ).then(function(){\n",
              "                            \n",
              "var gd = document.getElementById('1b7e76d1-562c-4ebf-91cc-328c7688837f');\n",
              "var x = new MutationObserver(function (mutations, observer) {{\n",
              "        var display = window.getComputedStyle(gd).display;\n",
              "        if (!display || display === 'none') {{\n",
              "            console.log([gd, 'removed!']);\n",
              "            Plotly.purge(gd);\n",
              "            observer.disconnect();\n",
              "        }}\n",
              "}});\n",
              "\n",
              "// Listen for the removal of the full notebook cells\n",
              "var notebookContainer = gd.closest('#notebook-container');\n",
              "if (notebookContainer) {{\n",
              "    x.observe(notebookContainer, {childList: true});\n",
              "}}\n",
              "\n",
              "// Listen for the clearing of the current output cell\n",
              "var outputEl = gd.closest('.output');\n",
              "if (outputEl) {{\n",
              "    x.observe(outputEl, {childList: true});\n",
              "}}\n",
              "\n",
              "                        })                };                            </script>        </div>\n",
              "</body>\n",
              "</html>"
            ]
          },
          "metadata": {}
        }
      ]
    },
    {
      "cell_type": "code",
      "source": [
        "# =============================\n",
        "#      DISTRIBUSI RATING\n",
        "# =============================\n",
        "import matplotlib.pyplot as plt\n",
        "import seaborn as sns\n",
        "\n",
        "plt.figure(figsize=(8, 4))\n",
        "sns.histplot(df['Average Rating'], bins=10, kde=False, color='skyblue')\n",
        "plt.title(\"Distribution of Course Ratings\")\n",
        "plt.xlabel(\"Average Rating\")\n",
        "plt.ylabel(\"Number of Courses\")\n",
        "plt.tight_layout()\n",
        "\n",
        "plt.show()"
      ],
      "metadata": {
        "id": "yFil4SewUxBh",
        "colab": {
          "base_uri": "https://localhost:8080/",
          "height": 407
        },
        "outputId": "bce59f6e-df30-4da5-e362-0f1d8df8d84f"
      },
      "execution_count": null,
      "outputs": [
        {
          "output_type": "display_data",
          "data": {
            "text/plain": [
              "<Figure size 800x400 with 1 Axes>"
            ],
            "image/png": "[encoded data removed]"
          },
          "metadata": {}
        }
      ]
    },
    {
      "cell_type": "code",
      "source": [
        "# =============================\n",
        "#     TOP 10 COURSE PROVIDERS\n",
        "# =============================\n",
        "import matplotlib.pyplot as plt\n",
        "import seaborn as sns\n",
        "\n",
        "top_providers = df['Provider'].value_counts().nlargest(10)\n",
        "\n",
        "print(\"\\nTop 10 Providers dengan Jumlah Kursus Terbanyak:\")\n",
        "print(top_providers)\n",
        "\n",
        "plt.figure(figsize=(8, 4))\n",
        "sns.barplot(x=top_providers.values, y=top_providers.index, palette=\"viridis\")\n",
        "plt.title(\"Top 10 Providers dengan Jumlah Kursus Terbanyak\")\n",
        "plt.xlabel(\"Jumlah Kursus\")\n",
        "plt.ylabel(\"Provider\")\n",
        "plt.tight_layout()\n",
        "plt.show()"
      ],
      "metadata": {
        "id": "AZbnvu47VhFv",
        "colab": {
          "base_uri": "https://localhost:8080/",
          "height": 791
        },
        "outputId": "01637b64-c372-4407-dcf3-9ed07099a07c"
      },
      "execution_count": null,
      "outputs": [
        {
          "output_type": "stream",
          "name": "stdout",
          "text": [
            "\n",
            "Top 10 Providers dengan Jumlah Kursus Terbanyak:\n",
            "Provider\n",
            "YouTube              2916\n",
            "Udemy                1003\n",
            "Coursera              977\n",
            "edX                   695\n",
            "LinkedIn Learning     239\n",
            "DataCamp              231\n",
            "AWS Skill Builder     124\n",
            "Noble Desktop          84\n",
            "freeCodeCamp           68\n",
            "Udacity                65\n",
            "Name: count, dtype: int64\n"
          ]
        },
        {
          "output_type": "stream",
          "name": "stderr",
          "text": [
            "/tmp/ipython-input-15-477953151.py:13: FutureWarning:\n",
            "\n",
            "\n",
            "\n",
            "Passing `palette` without assigning `hue` is deprecated and will be removed in v0.14.0. Assign the `y` variable to `hue` and set `legend=False` for the same effect.\n",
            "\n",
            "\n"
          ]
        },
        {
          "output_type": "display_data",
          "data": {
            "text/plain": [
              "<Figure size 800x400 with 1 Axes>"
            ],
            "image/png": "[encoded data removed]"
          },
          "metadata": {}
        }
      ]
    },
    {
      "cell_type": "markdown",
      "source": [
        "## Scraping Berhasil\n",
        "\n",
        "Scraping telah berhasil dan sudah diambil data dari 100 halaman kursus Class Central dan menyimpannya dalam bentuk DataFrame. Data ini selajutnya akan dibersihkan dan diolah pada bagian **Text Preprocessing**.\n"
      ],
      "metadata": {
        "id": "QscF594qaaVa"
      }
    },
    {
      "cell_type": "markdown",
      "source": [
        "# **2. Data Preprocessing (Text Cleaning)**"
      ],
      "metadata": {
        "id": "OPufYPKw8ncb"
      }
    },
    {
      "cell_type": "code",
      "source": [
        "# Import Library Tambahan\n",
        "\n",
        "import re\n",
        "from nltk.corpus import stopwords\n",
        "from nltk.tokenize import word_tokenize\n",
        "from nltk.stem import PorterStemmer, WordNetLemmatizer\n",
        "\n",
        "# Download resource NLTK untuk Bahasa Inggris\n",
        "nltk.download('punkt', quiet=True)\n",
        "nltk.download('stopwords', quiet=True)\n",
        "nltk.download('punkt_tab')\n",
        "\n",
        "print(\"Library berhasil di-import.\")"
      ],
      "metadata": {
        "id": "Kaf8nzFp_a1I",
        "colab": {
          "base_uri": "https://localhost:8080/"
        },
        "outputId": "d2cdeace-0ed3-4897-8c7b-2eb47bf869ff"
      },
      "execution_count": null,
      "outputs": [
        {
          "output_type": "stream",
          "name": "stdout",
          "text": [
            "Library berhasil di-import.\n"
          ]
        },
        {
          "output_type": "stream",
          "name": "stderr",
          "text": [
            "[nltk_data] Downloading package punkt_tab to /root/nltk_data...\n",
            "[nltk_data]   Package punkt_tab is already up-to-date!\n"
          ]
        }
      ]
    },
    {
      "cell_type": "code",
      "source": [
        "# Menghapus URL, Hashtag, Emoji, Angka, dan Tanda Baca\n",
        "def clean_noise(text):\n",
        "\n",
        "  # Menghapus semua tag HTML secara utuh\n",
        "  text = re.sub(r'<.*?>', '', text)\n",
        "  # Menghapus URL\n",
        "  text = re.sub(r'https?://\\S+|www\\.\\S+', '', text)\n",
        "  # Menghapus Hashtag\n",
        "  text = re.sub(r'#\\w+', '', text)\n",
        "  # Menghapus Emoji dan Tanda Baca\n",
        "  text = re.sub(r'[^\\w\\s]', '', text)\n",
        "  # Menghapus Angka\n",
        "  text = re.sub(r'\\d+', '', text)\n",
        "  # Menghapus spasi berlebih\n",
        "  text = re.sub(r'\\s+', ' ', text).strip()\n",
        "  return text"
      ],
      "metadata": {
        "id": "DZqk2PdUCFTA"
      },
      "execution_count": null,
      "outputs": []
    },
    {
      "cell_type": "code",
      "source": [
        "# Menghapus Stopwords\n",
        "\n",
        "# Define list_stopwords\n",
        "from nltk.corpus import stopwords\n",
        "list_stopwords = set(stopwords.words('english'))\n",
        "\n",
        "def remove_stopwords(text):\n",
        "\n",
        "  # Memecah kalimat menjadi kata-kata (tokenization)\n",
        "  tokens = text.split()\n",
        "\n",
        "  # Menghapus stopwords dari daftar token\n",
        "  tokens_without_stopwords = [word for word in tokens if word not in list_stopwords]\n",
        "\n",
        "  # Menggabungkan kembali token menjadi kalimat\n",
        "  text = ' '.join(tokens_without_stopwords)\n",
        "  return text"
      ],
      "metadata": {
        "id": "BTLOKtbgCOyD"
      },
      "execution_count": null,
      "outputs": []
    },
    {
      "cell_type": "code",
      "source": [
        "# Stemming\n",
        "# Membuat stemmer\n",
        "stemmer = PorterStemmer()\n",
        "lemmatizer = WordNetLemmatizer()"
      ],
      "metadata": {
        "id": "i_GWZ1xXCeO1"
      },
      "execution_count": null,
      "outputs": []
    },
    {
      "cell_type": "markdown",
      "source": [
        "### **Pipeline**"
      ],
      "metadata": {
        "id": "XV1hiiorncqP"
      }
    },
    {
      "cell_type": "code",
      "source": [
        "def cleaning_pipeline(text):\n",
        "    text = clean_noise(text)\n",
        "\n",
        "    # 1. Lowercase\n",
        "    text = text.lower()\n",
        "\n",
        "    # 2. Remove non-alphabetic characters\n",
        "    text = re.sub(r'[^a-z\\s]', '', text)\n",
        "\n",
        "    # 3. Tokenize\n",
        "    tokens = word_tokenize(text)\n",
        "\n",
        "    # 4. Remove stopwords\n",
        "    tokens = [word for word in tokens if word not in list_stopwords]\n",
        "\n",
        "    # 5. Stemming\n",
        "    stemmed_tokens = [stemmer.stem(word) for word in tokens]\n",
        "\n",
        "    # 6. Join back\n",
        "    cleaned_text = ' '.join(stemmed_tokens)\n",
        "\n",
        "    return cleaned_text"
      ],
      "metadata": {
        "id": "khpQbCaRnGo_"
      },
      "execution_count": null,
      "outputs": []
    },
    {
      "cell_type": "code",
      "source": [
        "# =====================\n",
        "# POST-SCRAPING PIPELINE\n",
        "# =====================\n",
        "\n",
        "# Load the dataframe from the CSV file.\n",
        "# This is necessary because the previous cell that scraped the data might have been re-executed\n",
        "# and we want to make sure we are working with the latest scraped data.\n",
        "df = pd.read_csv(\"/content/courses_data.csv\")\n",
        "\n",
        "\n",
        "if not df.empty: # Changed df_jobs to df\n",
        "    print(\"\\n✅ Scraping berhasil. Memulai pipeline post-processing...\")\n",
        "\n",
        "    # Kolom-kolom yang ingin dibersihkan\n",
        "    # Ensure these columns exist in the DataFrame before trying to clean them\n",
        "    text_columns = ['Title', 'Category', 'Provider', 'Language', 'Certificate', 'Price Type', 'Overview'] # Excluded 'Average Rating' and 'Reviews'\n",
        "\n",
        "\n",
        "    # Bersihkan semua kolom teks\n",
        "    for col in text_columns:\n",
        "        if col in df.columns: # Added a check to ensure the column exists\n",
        "            df[f'Cleaned {col}'] = df[col].astype(str).apply(cleaning_pipeline) # Convert to string before applying cleaning\n",
        "        else:\n",
        "            logging.warning(f\"Column '{col}' not found in DataFrame. Skipping cleaning for this column.\")\n",
        "\n",
        "\n",
        "    print(\"\\n--- CONTOH HASIL CLEANING (5 Data Pertama) ---\")\n",
        "    # Ensure the cleaned columns exist before trying to print them\n",
        "    cleaned_columns_to_print = [f'Cleaned {col}' for col in text_columns if f'Cleaned {col}' in df.columns]\n",
        "    if cleaned_columns_to_print:\n",
        "        print(df[cleaned_columns_to_print].head(5))\n",
        "    else:\n",
        "        print(\"No cleaned text columns to display.\")\n",
        "\n",
        "\n",
        "    # Urutkan kolom biar rapi\n",
        "    # Ensure all columns in final_columns exist in the DataFrame\n",
        "    all_original_columns = ['Title', 'Category', 'Provider', 'Language', 'Certificate', 'Average Rating', 'Price Type', 'Reviews', 'Duration', 'Overview', 'Link']\n",
        "    cleaned_columns = [f'Cleaned {col}' for col in text_columns if f'Cleaned {col}' in df.columns]\n",
        "    final_columns = [col for col in all_original_columns + cleaned_columns if col in df.columns]\n",
        "\n",
        "    df = df[final_columns]\n",
        "\n",
        "    # Simpan ke file\n",
        "    output_csv = \"courses_final_data.csv\"\n",
        "    df.to_csv(output_csv, index=False)\n",
        "    print(f\"\\n📁 Data berhasil disimpan ke: '{output_csv}'\")\n",
        "\n",
        "    output_json = \"courses_final_data.json\"\n",
        "    df.to_json(output_json, orient='records', indent=4)\n",
        "    print(f\"📁 Data berhasil disimpan ke: '{output_json}'\")\n",
        "\n",
        "else:\n",
        "    print(\"⚠️ Tidak ada data yang berhasil di-scrape.\")"
      ],
      "metadata": {
        "id": "WhKQ9O1fxIAx",
        "colab": {
          "base_uri": "https://localhost:8080/"
        },
        "outputId": "09842dfd-c6ba-4dac-d7d5-be212662bb31"
      },
      "execution_count": null,
      "outputs": [
        {
          "output_type": "stream",
          "name": "stdout",
          "text": [
            "\n",
            "✅ Scraping berhasil. Memulai pipeline post-processing...\n",
            "\n",
            "--- CONTOH HASIL CLEANING (5 Data Pertama) ---\n",
            "                  Cleaned Title Cleaned Category Cleaned Provider  \\\n",
            "0  introduct data scienc python      data scienc         coursera   \n",
            "1       crash cours data scienc      data scienc         coursera   \n",
            "2            python data scienc      data scienc              edx   \n",
            "3        data scienc math skill      data scienc         coursera   \n",
            "4    program data scienc python      data scienc             udac   \n",
            "\n",
            "  Cleaned Language Cleaned Certificate Cleaned Price Type  \\\n",
            "0          english        certif avail               free   \n",
            "1          english        certif avail               free   \n",
            "2          english              certif               free   \n",
            "3          english        certif avail               free   \n",
            "4          english        certif avail               paid   \n",
            "\n",
            "                                    Cleaned Overview  \n",
            "0  learn python fundament data manipul panda basi...  \n",
            "1  rapid introduct data scienc essenti cover key ...  \n",
            "2  learn use power opensourc python tool includ p...  \n",
            "3  master essenti math concept data scienc set th...  \n",
            "4  master sql python version control data analysi...  \n",
            "\n",
            "📁 Data berhasil disimpan ke: 'courses_final_data.csv'\n",
            "📁 Data berhasil disimpan ke: 'courses_final_data.json'\n"
          ]
        }
      ]
    },
    {
      "cell_type": "markdown",
      "source": [
        "# Proses selesai dan data siap digunakan!\n",
        "\n",
        "Seluruh pipeline telah berhasil dijalankan, meliputi:\n",
        "1. Data Collecting: Mengambil data kursus dari situs ClassCentral dengan menggunakan Selenium.\n",
        "2. Data Cleaning (Preprocessing):\n",
        "    * Konversi teks menjadi lowercase\n",
        "    * Penghapusan noise (URL, hashtag, angka, emoji, dan tanda baca)\n",
        "    * Penghapusan stopwords\n",
        "3. Data Export: Dataset yang sudah dibersihkan dan terstruktur telah disimpan dalam format CSV dan JSON."
      ],
      "metadata": {
        "id": "D_7YO2lNeohk"
      }
    },
    {
      "cell_type": "code",
      "source": [],
      "metadata": {
        "id": "jaelefwcvhN7"
      },
      "execution_count": null,
      "outputs": []
    }
  ]
}