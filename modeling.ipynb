{
 "cells": [
  {
   "cell_type": "markdown",
   "id": "52b1d376",
   "metadata": {},
   "source": [
    "# **00 Import Library**"
   ]
  },
  {
   "cell_type": "code",
   "execution_count": null,
   "id": "af81e663",
   "metadata": {},
   "outputs": [],
   "source": [
    "import pandas as pd\n",
    "import numpy as np\n",
    "\n",
    "# Visualization\n",
    "import matplotlib.pyplot as plt\n",
    "import seaborn as sns\n",
    "\n",
    "# Text Vectorization\n",
    "import gensim\n",
    "from gensim.models import Word2Vec, FastText\n",
    "from sklearn.feature_extraction.text import TfidfVectorizer\n",
    "from gensim.utils import simple_preprocess\n",
    "\n",
    "# Modeling\n",
    "from sklearn.metrics.pairwise import cosine_similarity\n",
    "from gensim.similarities import WmdSimilarity"
   ]
  },
  {
   "cell_type": "markdown",
   "id": "1158b95d",
   "metadata": {},
   "source": [
    "# **01 Load Dataset**"
   ]
  },
  {
   "cell_type": "code",
   "execution_count": null,
   "id": "cde3340b",
   "metadata": {},
   "outputs": [],
   "source": []
  },
  {
   "cell_type": "code",
   "execution_count": null,
   "id": "91a7fe31",
   "metadata": {},
   "outputs": [],
   "source": []
  },
  {
   "cell_type": "markdown",
   "id": "106e415a",
   "metadata": {},
   "source": [
    "# **02 Text Vectorization**"
   ]
  },
  {
   "cell_type": "markdown",
   "id": "ab407192",
   "metadata": {},
   "source": [
    "## a. TF-IDF"
   ]
  },
  {
   "cell_type": "code",
   "execution_count": null,
   "id": "238e7d6e",
   "metadata": {},
   "outputs": [],
   "source": []
  },
  {
   "cell_type": "markdown",
   "id": "ec451731",
   "metadata": {},
   "source": [
    "## b. Word2Vec"
   ]
  },
  {
   "cell_type": "code",
   "execution_count": null,
   "id": "3049a7c7",
   "metadata": {},
   "outputs": [],
   "source": []
  },
  {
   "cell_type": "markdown",
   "id": "a0b8e724",
   "metadata": {},
   "source": [
    "## c. FastText"
   ]
  },
  {
   "cell_type": "code",
   "execution_count": null,
   "id": "7c044b0c",
   "metadata": {},
   "outputs": [],
   "source": []
  },
  {
   "cell_type": "markdown",
   "id": "e3d2cd13",
   "metadata": {},
   "source": [
    "# **03 Labelling & Similarity Mapping**"
   ]
  },
  {
   "cell_type": "markdown",
   "id": "e0dfdf13",
   "metadata": {},
   "source": [
    "## Cosine Similarity"
   ]
  },
  {
   "cell_type": "code",
   "execution_count": null,
   "id": "0631a2f4",
   "metadata": {},
   "outputs": [],
   "source": []
  },
  {
   "cell_type": "code",
   "execution_count": null,
   "id": "ae3ec564",
   "metadata": {},
   "outputs": [],
   "source": []
  },
  {
   "cell_type": "markdown",
   "id": "ebc7ea15",
   "metadata": {},
   "source": [
    "## WMD Similarity"
   ]
  },
  {
   "cell_type": "code",
   "execution_count": null,
   "id": "b959c94c",
   "metadata": {},
   "outputs": [],
   "source": []
  },
  {
   "cell_type": "markdown",
   "id": "54aac6b9",
   "metadata": {},
   "source": [
    "# 04 Recommendation Modeling"
   ]
  },
  {
   "cell_type": "markdown",
   "id": "0ff95ff0",
   "metadata": {},
   "source": [
    "### a. Cosine + TFIDF"
   ]
  },
  {
   "cell_type": "code",
   "execution_count": null,
   "id": "fdb56504",
   "metadata": {},
   "outputs": [],
   "source": []
  },
  {
   "cell_type": "markdown",
   "id": "db4cc61e",
   "metadata": {},
   "source": [
    "### b. Cosine + W2Vec"
   ]
  },
  {
   "cell_type": "code",
   "execution_count": null,
   "id": "0567ed44",
   "metadata": {},
   "outputs": [],
   "source": []
  },
  {
   "cell_type": "markdown",
   "id": "056e6ff3",
   "metadata": {},
   "source": [
    "### c. Cosine + FastText"
   ]
  },
  {
   "cell_type": "code",
   "execution_count": null,
   "id": "608549c9",
   "metadata": {},
   "outputs": [],
   "source": []
  },
  {
   "cell_type": "markdown",
   "id": "17a59bbf",
   "metadata": {},
   "source": [
    "### d. WMD + TFIDF"
   ]
  },
  {
   "cell_type": "code",
   "execution_count": null,
   "id": "937f624b",
   "metadata": {},
   "outputs": [],
   "source": []
  },
  {
   "cell_type": "markdown",
   "id": "6e075b5a",
   "metadata": {},
   "source": [
    "### e. WMD + W2Vec"
   ]
  },
  {
   "cell_type": "code",
   "execution_count": null,
   "id": "e73640be",
   "metadata": {},
   "outputs": [],
   "source": []
  },
  {
   "cell_type": "markdown",
   "id": "0d110fc9",
   "metadata": {},
   "source": [
    "### f. WMD + FastText"
   ]
  },
  {
   "cell_type": "code",
   "execution_count": null,
   "id": "492c5d7d",
   "metadata": {},
   "outputs": [],
   "source": []
  },
  {
   "cell_type": "markdown",
   "id": "199f822c",
   "metadata": {},
   "source": [
    "### Comparison"
   ]
  },
  {
   "cell_type": "code",
   "execution_count": null,
   "id": "f5b208ce",
   "metadata": {},
   "outputs": [],
   "source": []
  },
  {
   "cell_type": "markdown",
   "id": "bad6b212",
   "metadata": {},
   "source": [
    "## Saving Vectorization & Similarity Results"
   ]
  },
  {
   "cell_type": "code",
   "execution_count": null,
   "id": "d561db3d",
   "metadata": {},
   "outputs": [],
   "source": []
  },
  {
   "cell_type": "code",
   "execution_count": null,
   "id": "15268bbe",
   "metadata": {},
   "outputs": [],
   "source": []
  },
  {
   "cell_type": "code",
   "execution_count": null,
   "id": "9262bfdf",
   "metadata": {},
   "outputs": [],
   "source": []
  }
 ],
 "metadata": {
  "language_info": {
   "name": "python"
  }
 },
 "nbformat": 4,
 "nbformat_minor": 5
}
