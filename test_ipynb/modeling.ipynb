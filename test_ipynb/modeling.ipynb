{
 "cells": [
  {
   "cell_type": "markdown",
   "id": "52b1d376",
   "metadata": {},
   "source": [
    "# **00 Import Library**"
   ]
  },
  {
   "cell_type": "code",
   "execution_count": 22,
   "id": "109fec0a",
   "metadata": {},
   "outputs": [
    {
     "name": "stdout",
     "output_type": "stream",
     "text": [
      "Collecting faiss-cpu==1.11.0.post1\n",
      "  Using cached faiss_cpu-1.11.0.post1-cp39-cp39-win_amd64.whl (14.9 MB)\n",
      "Requirement already satisfied: packaging in c:\\users\\hp\\anaconda3\\lib\\site-packages (from faiss-cpu==1.11.0.post1) (21.3)\n",
      "Requirement already satisfied: numpy<3.0,>=1.25.0 in c:\\users\\hp\\anaconda3\\lib\\site-packages (from faiss-cpu==1.11.0.post1) (2.0.2)\n",
      "Requirement already satisfied: pyparsing!=3.0.5,>=2.0.2 in c:\\users\\hp\\anaconda3\\lib\\site-packages (from packaging->faiss-cpu==1.11.0.post1) (3.0.9)\n",
      "Installing collected packages: faiss-cpu\n",
      "Successfully installed faiss-cpu-1.11.0.post1\n",
      "Note: you may need to restart the kernel to use updated packages.\n"
     ]
    }
   ],
   "source": [
    "pip install faiss-cpu==1.11.0.post1"
   ]
  },
  {
   "cell_type": "code",
   "execution_count": 29,
   "id": "af81e663",
   "metadata": {},
   "outputs": [],
   "source": [
    "import pandas as pd\n",
    "import numpy as np\n",
    "\n",
    "# Visualization\n",
    "import matplotlib.pyplot as plt\n",
    "import seaborn as sns\n",
    "\n",
    "# Text Vectorization\n",
    "import gensim\n",
    "from gensim.models import Word2Vec, FastText\n",
    "from sklearn.feature_extraction.text import TfidfVectorizer\n",
    "from gensim.utils import simple_preprocess\n",
    "\n",
    "# Modeling\n",
    "from sklearn.metrics.pairwise import cosine_similarity\n",
    "from gensim.similarities import WmdSimilarity\n",
    "from sentence_transformers import SentenceTransformer"
   ]
  },
  {
   "cell_type": "markdown",
   "id": "1158b95d",
   "metadata": {},
   "source": [
    "# **01 Load Dataset**"
   ]
  },
  {
   "cell_type": "code",
   "execution_count": 4,
   "id": "cde3340b",
   "metadata": {},
   "outputs": [],
   "source": [
    "df_job = pd.read_csv(r\"C:\\Users\\hp\\COURSE\\SISTECH\\PP_MachineLearningOperations_TalithaRahmadewatiW\\FINAL PROJECT\\dataset\\cleaned_jobstreet.csv\")\n",
    "df_courses = pd.read_csv(r\"C:\\Users\\hp\\COURSE\\SISTECH\\PP_MachineLearningOperations_TalithaRahmadewatiW\\FINAL PROJECT\\dataset\\cleaned_classentral.csv\")"
   ]
  },
  {
   "cell_type": "code",
   "execution_count": 15,
   "id": "8816e5b9",
   "metadata": {},
   "outputs": [
    {
     "data": {
      "text/html": [
       "<div>\n",
       "<style scoped>\n",
       "    .dataframe tbody tr th:only-of-type {\n",
       "        vertical-align: middle;\n",
       "    }\n",
       "\n",
       "    .dataframe tbody tr th {\n",
       "        vertical-align: top;\n",
       "    }\n",
       "\n",
       "    .dataframe thead th {\n",
       "        text-align: right;\n",
       "    }\n",
       "</style>\n",
       "<table border=\"1\" class=\"dataframe\">\n",
       "  <thead>\n",
       "    <tr style=\"text-align: right;\">\n",
       "      <th></th>\n",
       "      <th>title</th>\n",
       "      <th>category</th>\n",
       "      <th>tokens</th>\n",
       "      <th>w2v_vec</th>\n",
       "    </tr>\n",
       "  </thead>\n",
       "  <tbody>\n",
       "    <tr>\n",
       "      <th>0</th>\n",
       "      <td>data scientist</td>\n",
       "      <td>mathematics statistics information sciences sc...</td>\n",
       "      <td>['data', 'scientist', 'mathematics', 'statisti...</td>\n",
       "      <td>[-0.10176187, 0.0332709, 0.15051332, 0.0856378...</td>\n",
       "    </tr>\n",
       "    <tr>\n",
       "      <th>1</th>\n",
       "      <td>senior data scientist genai hybrid working</td>\n",
       "      <td>other information communication technology</td>\n",
       "      <td>['senior', 'data', 'scientist', 'genai', 'hybr...</td>\n",
       "      <td>[-0.097883716, 0.036603168, 0.15064253, 0.0839...</td>\n",
       "    </tr>\n",
       "    <tr>\n",
       "      <th>2</th>\n",
       "      <td>data scientist</td>\n",
       "      <td>mathematics statistics information sciences sc...</td>\n",
       "      <td>['data', 'scientist', 'mathematics', 'statisti...</td>\n",
       "      <td>[-0.097248085, 0.023463484, 0.15020867, 0.0985...</td>\n",
       "    </tr>\n",
       "    <tr>\n",
       "      <th>3</th>\n",
       "      <td>data science engineer</td>\n",
       "      <td>engineering software information communication...</td>\n",
       "      <td>['data', 'science', 'engineer', 'engineer', 's...</td>\n",
       "      <td>[-0.106991224, 0.045524247, 0.16322128, 0.1059...</td>\n",
       "    </tr>\n",
       "    <tr>\n",
       "      <th>4</th>\n",
       "      <td>data scientist</td>\n",
       "      <td>engineering software information communication...</td>\n",
       "      <td>['data', 'scientist', 'engineer', 'software', ...</td>\n",
       "      <td>[-0.11201963, 0.044731632, 0.15488832, 0.08253...</td>\n",
       "    </tr>\n",
       "    <tr>\n",
       "      <th>...</th>\n",
       "      <td>...</td>\n",
       "      <td>...</td>\n",
       "      <td>...</td>\n",
       "      <td>...</td>\n",
       "    </tr>\n",
       "    <tr>\n",
       "      <th>571</th>\n",
       "      <td>bi developer</td>\n",
       "      <td>developersprogrammers information communicatio...</td>\n",
       "      <td>['bi', 'developer', 'developersprogrammers', '...</td>\n",
       "      <td>[-0.08755468, 0.046252754, 0.1457336, 0.082536...</td>\n",
       "    </tr>\n",
       "    <tr>\n",
       "      <th>572</th>\n",
       "      <td>senior sales account managersales manager data...</td>\n",
       "      <td>account relationship management sales</td>\n",
       "      <td>['senior', 'sale', 'account', 'managersales', ...</td>\n",
       "      <td>[-0.11049973, 0.032507837, 0.14785658, 0.08316...</td>\n",
       "    </tr>\n",
       "    <tr>\n",
       "      <th>573</th>\n",
       "      <td>project manager erp digital transformation</td>\n",
       "      <td>programme project management information commu...</td>\n",
       "      <td>['project', 'manager', 'erp', 'digital', 'tran...</td>\n",
       "      <td>[-0.102200195, 0.04617636, 0.1531078, 0.076464...</td>\n",
       "    </tr>\n",
       "    <tr>\n",
       "      <th>574</th>\n",
       "      <td>software engineer java</td>\n",
       "      <td>developersprogrammers information communicatio...</td>\n",
       "      <td>['software', 'engineer', 'java', 'developerspr...</td>\n",
       "      <td>[-0.107833296, 0.05134064, 0.15680124, 0.08837...</td>\n",
       "    </tr>\n",
       "    <tr>\n",
       "      <th>575</th>\n",
       "      <td>data analyst manager</td>\n",
       "      <td>businesssystems analysts information communica...</td>\n",
       "      <td>['data', 'analyst', 'manager', 'businesssystem...</td>\n",
       "      <td>[-0.09823822, 0.036920335, 0.153551, 0.1085766...</td>\n",
       "    </tr>\n",
       "  </tbody>\n",
       "</table>\n",
       "<p>576 rows × 4 columns</p>\n",
       "</div>"
      ],
      "text/plain": [
       "                                                 title  \\\n",
       "0                                       data scientist   \n",
       "1           senior data scientist genai hybrid working   \n",
       "2                                       data scientist   \n",
       "3                                data science engineer   \n",
       "4                                       data scientist   \n",
       "..                                                 ...   \n",
       "571                                       bi developer   \n",
       "572  senior sales account managersales manager data...   \n",
       "573         project manager erp digital transformation   \n",
       "574                             software engineer java   \n",
       "575                               data analyst manager   \n",
       "\n",
       "                                              category  \\\n",
       "0    mathematics statistics information sciences sc...   \n",
       "1           other information communication technology   \n",
       "2    mathematics statistics information sciences sc...   \n",
       "3    engineering software information communication...   \n",
       "4    engineering software information communication...   \n",
       "..                                                 ...   \n",
       "571  developersprogrammers information communicatio...   \n",
       "572              account relationship management sales   \n",
       "573  programme project management information commu...   \n",
       "574  developersprogrammers information communicatio...   \n",
       "575  businesssystems analysts information communica...   \n",
       "\n",
       "                                                tokens  \\\n",
       "0    ['data', 'scientist', 'mathematics', 'statisti...   \n",
       "1    ['senior', 'data', 'scientist', 'genai', 'hybr...   \n",
       "2    ['data', 'scientist', 'mathematics', 'statisti...   \n",
       "3    ['data', 'science', 'engineer', 'engineer', 's...   \n",
       "4    ['data', 'scientist', 'engineer', 'software', ...   \n",
       "..                                                 ...   \n",
       "571  ['bi', 'developer', 'developersprogrammers', '...   \n",
       "572  ['senior', 'sale', 'account', 'managersales', ...   \n",
       "573  ['project', 'manager', 'erp', 'digital', 'tran...   \n",
       "574  ['software', 'engineer', 'java', 'developerspr...   \n",
       "575  ['data', 'analyst', 'manager', 'businesssystem...   \n",
       "\n",
       "                                               w2v_vec  \n",
       "0    [-0.10176187, 0.0332709, 0.15051332, 0.0856378...  \n",
       "1    [-0.097883716, 0.036603168, 0.15064253, 0.0839...  \n",
       "2    [-0.097248085, 0.023463484, 0.15020867, 0.0985...  \n",
       "3    [-0.106991224, 0.045524247, 0.16322128, 0.1059...  \n",
       "4    [-0.11201963, 0.044731632, 0.15488832, 0.08253...  \n",
       "..                                                 ...  \n",
       "571  [-0.08755468, 0.046252754, 0.1457336, 0.082536...  \n",
       "572  [-0.11049973, 0.032507837, 0.14785658, 0.08316...  \n",
       "573  [-0.102200195, 0.04617636, 0.1531078, 0.076464...  \n",
       "574  [-0.107833296, 0.05134064, 0.15680124, 0.08837...  \n",
       "575  [-0.09823822, 0.036920335, 0.153551, 0.1085766...  \n",
       "\n",
       "[576 rows x 4 columns]"
      ]
     },
     "execution_count": 15,
     "metadata": {},
     "output_type": "execute_result"
    }
   ],
   "source": [
    "df_job"
   ]
  },
  {
   "cell_type": "code",
   "execution_count": 6,
   "id": "4f749294",
   "metadata": {},
   "outputs": [
    {
     "name": "stdout",
     "output_type": "stream",
     "text": [
      "<class 'pandas.core.frame.DataFrame'>\n",
      "RangeIndex: 6919 entries, 0 to 6918\n",
      "Data columns (total 3 columns):\n",
      " #   Column    Non-Null Count  Dtype \n",
      "---  ------    --------------  ----- \n",
      " 0   title     6883 non-null   object\n",
      " 1   category  6919 non-null   object\n",
      " 2   tokens    6919 non-null   object\n",
      "dtypes: object(3)\n",
      "memory usage: 162.3+ KB\n"
     ]
    }
   ],
   "source": [
    "df_courses.info()"
   ]
  },
  {
   "cell_type": "code",
   "execution_count": 7,
   "id": "91a7fe31",
   "metadata": {},
   "outputs": [],
   "source": [
    "# Gabungkan semua token jadi satu list untuk Word2Vec\n",
    "all_sentences = df_job[\"tokens\"].tolist() + df_courses[\"tokens\"].tolist()"
   ]
  },
  {
   "cell_type": "markdown",
   "id": "106e415a",
   "metadata": {},
   "source": [
    "# **02 Text Vectorization**"
   ]
  },
  {
   "cell_type": "markdown",
   "id": "ec451731",
   "metadata": {},
   "source": [
    "## Word2Vec"
   ]
  },
  {
   "cell_type": "code",
   "execution_count": 32,
   "id": "3049a7c7",
   "metadata": {},
   "outputs": [],
   "source": [
    "w2v_model = Word2Vec(sentences=all_sentences, vector_size=100, window=5, min_count=2, workers=4)\n",
    "\n",
    "def sentence_vector(tokens, model):\n",
    "    vectors = [model.wv[word] for word in tokens if word in model.wv]\n",
    "    return np.mean(vectors, axis=0) if vectors else np.zeros(model.vector_size)\n",
    "\n",
    "df_job[\"w2v_vec\"] = df_job[\"tokens\"].apply(lambda x: sentence_vector(x, w2v_model))\n",
    "df_courses[\"w2v_vec\"] = df_courses[\"tokens\"].apply(lambda x: sentence_vector(x, w2v_model))\n"
   ]
  },
  {
   "cell_type": "markdown",
   "id": "b34c6a1a",
   "metadata": {},
   "source": [
    "<!-- ## Sentence Tranformers -->"
   ]
  },
  {
   "cell_type": "code",
   "execution_count": 33,
   "id": "7c044b0c",
   "metadata": {},
   "outputs": [],
   "source": [
    "# MODEL_NAME = \"all-MiniLM-L6-v2\"\n",
    "# model_st = SentenceTransformer(MODEL_NAME)\n",
    "\n",
    "# # Embed and normalize text vector\n",
    "# job_embeddings = model_st.encode(df_job[\"tokens\"].tolist(), convert_to_numpy=True)\n",
    "# course_embeddings = model_st.encode(df_courses[\"tokens\"].tolist(), convert_to_numpy=True)\n",
    "\n",
    "# # Normalize embeddings for cosine similarity\n",
    "# job_embeddings = job_embeddings / np.linalg.norm(job_embeddings, axis=1, keepdims=True)\n",
    "# course_embeddings = course_embeddings / np.linalg.norm(course_embeddings, axis=1, keepdims=True)\n"
   ]
  },
  {
   "cell_type": "markdown",
   "id": "e3d2cd13",
   "metadata": {},
   "source": [
    "# **03 Labelling & Similarity Mapping**"
   ]
  },
  {
   "cell_type": "markdown",
   "id": "e0dfdf13",
   "metadata": {},
   "source": [
    "## Cosine Similarity"
   ]
  },
  {
   "cell_type": "code",
   "execution_count": 34,
   "id": "0631a2f4",
   "metadata": {},
   "outputs": [],
   "source": [
    "# Hitung vektor rata-rata Word2Vec\n",
    "def sentence_vector(tokens, model):\n",
    "    vectors = [model.wv[word] for word in tokens if word in model.wv]\n",
    "    return np.mean(vectors, axis=0) if vectors else np.zeros(model.vector_size)\n",
    "\n",
    "# Buat vektor rata-rata\n",
    "df_job[\"w2v_vec\"] = df_job[\"tokens\"].apply(lambda x: sentence_vector(x, w2v_model))\n",
    "df_courses[\"w2v_vec\"] = df_courses[\"tokens\"].apply(lambda x: sentence_vector(x, w2v_model))\n",
    "\n",
    "# Fungsi mapping job → course via Cosine\n",
    "def map_job_to_courses_cosine(df_jobs, df_courses, top_k=3):\n",
    "    course_matrix = np.stack(df_courses[\"w2v_vec\"].values)\n",
    "    results = []\n",
    "\n",
    "    for idx, row in df_jobs.iterrows():\n",
    "        job_vec = row[\"w2v_vec\"].reshape(1, -1)\n",
    "        sims = cosine_similarity(job_vec, course_matrix).flatten()\n",
    "        top_indices = sims.argsort()[-top_k:][::-1]\n",
    "\n",
    "        matches = [{\n",
    "            \"course_title\": df_courses.iloc[i][\"title\"],\n",
    "            \"score\": round(sims[i], 4)\n",
    "        } for i in top_indices]\n",
    "\n",
    "        results.append({\n",
    "            \"job_title\": row[\"title\"],\n",
    "            \"job_category\": row[\"category\"],\n",
    "            \"recommended_courses\": matches\n",
    "        })\n",
    "    return results\n",
    "\n",
    "job_course_sim_cosine = map_job_to_courses_cosine(df_job, df_courses, top_k=3)\n"
   ]
  },
  {
   "cell_type": "markdown",
   "id": "ebc7ea15",
   "metadata": {},
   "source": [
    "<!-- ## WMD Similarity -->"
   ]
  },
  {
   "cell_type": "code",
   "execution_count": 21,
   "id": "b959c94c",
   "metadata": {},
   "outputs": [],
   "source": [
    "# # Inisialisasi indeks WMD dari course\n",
    "# wmd_index = WmdSimilarity(df_courses[\"tokens\"].tolist(), w2v_model.wv, num_best=3)\n",
    "\n",
    "# # Mapping job → course via WMD\n",
    "# def map_job_to_courses_wmd(df_jobs, df_courses, wmd_index, top_k=3):\n",
    "#     results = []\n",
    "\n",
    "#     for idx, row in df_jobs.iterrows():\n",
    "#         sims = wmd_index[row[\"tokens\"]][:top_k]\n",
    "\n",
    "#         matches = [{\n",
    "#             \"course_title\": df_courses.iloc[i][\"title\"],\n",
    "#             \"score\": round(score, 4)\n",
    "#         } for i, score in sims]\n",
    "\n",
    "#         results.append({\n",
    "#             \"job_title\": row[\"title\"],\n",
    "#             \"job_category\": row[\"category\"],\n",
    "#             \"recommended_courses\": matches\n",
    "#         })\n",
    "#     return results\n",
    "\n",
    "# job_course_sim_wmd = map_job_to_courses_wmd(df_job, df_courses, wmd_index, top_k=3)"
   ]
  },
  {
   "cell_type": "markdown",
   "id": "54aac6b9",
   "metadata": {},
   "source": [
    "# 04 Recommendation Modeling"
   ]
  },
  {
   "cell_type": "markdown",
   "id": "db4cc61e",
   "metadata": {},
   "source": [
    "### a. Cosine + W2Vec"
   ]
  },
  {
   "cell_type": "code",
   "execution_count": 37,
   "id": "0567ed44",
   "metadata": {},
   "outputs": [],
   "source": [
    "# ============================\n",
    "# COSINE SIMILARITY MODELING\n",
    "# ============================\n",
    "def recommend_courses_cosine(df_jobs, df_courses, top_k=3):\n",
    "    course_matrix = np.stack(df_courses[\"w2v_vec\"].values)\n",
    "    recommendations = []\n",
    "\n",
    "    for idx, row in df_jobs.iterrows():\n",
    "        job_vec = row[\"w2v_vec\"].reshape(1, -1)\n",
    "        sims = cosine_similarity(job_vec, course_matrix).flatten()\n",
    "        top_indices = sims.argsort()[-top_k:][::-1]\n",
    "\n",
    "        matches = [{\n",
    "            \"course_title\": df_courses.iloc[i][\"title\"],\n",
    "            \"score\": round(sims[i], 4)\n",
    "        } for i in top_indices]\n",
    "\n",
    "        recommendations.append({\n",
    "            \"job\": row[\"title\"],\n",
    "            \"category\": row[\"category\"],\n",
    "            \"matches\": matches\n",
    "        })\n",
    "\n",
    "    return recommendations"
   ]
  },
  {
   "cell_type": "markdown",
   "id": "6e075b5a",
   "metadata": {},
   "source": [
    "<!-- ### e. WMD + W2Vec -->"
   ]
  },
  {
   "cell_type": "code",
   "execution_count": null,
   "id": "e73640be",
   "metadata": {},
   "outputs": [],
   "source": [
    "# def map_jobs_to_courses_st(df_jobs, df_courses, job_vecs, course_vecs, top_k=3):\n",
    "#     results = []\n",
    "#     for i, job in enumerate(df_jobs.itertuples()):\n",
    "#         sim = cosine_similarity(job_vecs[i].reshape(1, -1), course_vecs).flatten()\n",
    "#         top_indices = sim.argsort()[-top_k:][::-1]\n",
    "\n",
    "#         recommendations = [{\n",
    "#             \"course_title\": df_courses.iloc[j][\"title\"],\n",
    "#             \"score\": round(sim[j], 4)\n",
    "#         } for j in top_indices]\n",
    "\n",
    "#         results.append({\n",
    "#             \"job_title\": job.title,\n",
    "#             \"category\": job.category,\n",
    "#             \"recommended_courses\": recommendations\n",
    "#         })\n",
    "#     return results\n",
    "\n",
    "# st_recommendations = map_jobs_to_courses_st(df_job, df_courses, job_embeddings, course_embeddings)"
   ]
  },
  {
   "cell_type": "code",
   "execution_count": 39,
   "id": "f5b208ce",
   "metadata": {},
   "outputs": [
    {
     "name": "stdout",
     "output_type": "stream",
     "text": [
      "[Cosine + Word2Vec] Job: data scientist\n",
      "Category: mathematics statistics information sciences science technology\n",
      "Rekomendasi Course:\n",
      "   - machine learning devops engineer                   | Score: 0.9992\n",
      "   - presto on aws journey lessons learned and performance optimization | Score: 0.9990\n",
      "   - introduction to the internet of things and embedded systems | Score: 0.9990\n",
      "   - python for data science immersive live online      | Score: 0.9990\n",
      "   - the power of machine learning boost business accumulate clicks fight fraud and deny deadbeats | Score: 0.9990\n",
      "\n",
      "[Cosine + Word2Vec] Job: senior data scientist genai hybrid working\n",
      "Category: other information communication technology\n",
      "Rekomendasi Course:\n",
      "   - empowering fearless data engineering with rust     | Score: 0.9991\n",
      "   - data science job interview full mock interview     | Score: 0.9990\n",
      "   - data science in production crossing the chasm      | Score: 0.9989\n",
      "   - will gen ai replace data jobs a study on its impact | Score: 0.9989\n",
      "   - pepsicos lowcode global data platform powered by unity catalog | Score: 0.9989\n",
      "\n"
     ]
    }
   ],
   "source": [
    "def print_recommendation_results(results, method=\"Cosine + W2V\"):\n",
    "    for res in results:\n",
    "        print(f\"[{method}] Job: {res['job']}\")\n",
    "        print(f\"Category: {res['category']}\")\n",
    "        print(\"Rekomendasi Course:\")\n",
    "        for match in res['matches']:\n",
    "            print(f\"   - {match['course_title']:<50} | Score: {match['score']:.4f}\")\n",
    "        print()\n",
    "        \n",
    "# 1. Cosine\n",
    "results_cosine = recommend_courses_cosine(df_job, df_courses, top_k=5)\n",
    "print_recommendation_results(results_cosine[:2], method=\"Cosine + Word2Vec\")\n",
    "\n",
    "# # 2. WMD\n",
    "# from gensim.similarities import WmdSimilarity\n",
    "# wmd_index = WmdSimilarity(df_courses[\"tokens\"].tolist(), w2v_model.wv, num_best=3)\n",
    "\n",
    "# results_wmd = recommend_courses_wmd(df_job, df_courses, wmd_index, top_k=3)\n",
    "# print_recommendation_results(results_wmd[:2], method=\"WMD + Word2Vec\")"
   ]
  },
  {
   "cell_type": "markdown",
   "id": "4d202573",
   "metadata": {},
   "source": [
    "### Sample Text"
   ]
  },
  {
   "cell_type": "code",
   "execution_count": 30,
   "id": "f280e3a5",
   "metadata": {},
   "outputs": [],
   "source": [
    "# sample_text = \"mathematics statistics information sciences science technology\"\n",
    "\n",
    "# # Tokenisasi ringan (tanpa NLTK)\n",
    "# def basic_tokenize(text):\n",
    "#     return text.lower().split()\n",
    "\n",
    "# # Representasi Word2Vec rata-rata\n",
    "# def sentence_vector(tokens, model):\n",
    "#     vectors = [model.wv[word] for word in tokens if word in model.wv]\n",
    "#     return np.mean(vectors, axis=0) if vectors else np.zeros(model.vector_size)\n",
    "\n",
    "# def recommend_courses_from_text_cosine(user_text, df_courses, model, top_k=3):\n",
    "#     tokens = basic_tokenize(user_text)\n",
    "#     user_vec = sentence_vector(tokens, model).reshape(1, -1)\n",
    "\n",
    "#     course_matrix = np.stack(df_courses[\"w2v_vec\"].values)\n",
    "#     similarities = cosine_similarity(user_vec, course_matrix).flatten()\n",
    "#     top_indices = similarities.argsort()[-top_k:][::-1]\n",
    "\n",
    "#     return [{\n",
    "#         \"course_title\": df_courses.iloc[i][\"title\"],\n",
    "#         \"score\": round(similarities[i], 4)\n",
    "#     } for i in top_indices]\n",
    "\n",
    "# def recommend_courses_from_text_wmd(user_text, wmd_index, top_k=3):\n",
    "#     tokens = basic_tokenize(user_text)\n",
    "#     sims = wmd_index[tokens][:top_k]\n",
    "\n",
    "#     return [{\n",
    "#         \"course_title\": df_courses.iloc[i][\"title\"],\n",
    "#         \"score\": round(score, 4)\n",
    "#     } for i, score in sims]\n",
    "\n",
    "# # Sample user input\n",
    "# sample_text = \"mathematics statistics information sciences science technology\"\n",
    "\n",
    "# # COSINE RECOMMENDATION\n",
    "# recommendations_cosine = recommend_courses_from_text_cosine(sample_text, df_courses, w2v_model, top_k=3)\n",
    "\n",
    "# # WMD RECOMMENDATION (make sure wmd_index sudah dibuat)\n",
    "# wmd_index = WmdSimilarity(df_courses[\"tokens\"].tolist(), w2v_model.wv, num_best=3)\n",
    "# recommendations_wmd = recommend_courses_from_text_wmd(sample_text, wmd_index, top_k=3)\n",
    "\n",
    "# # Output: Cosine\n",
    "# print(\"💼 [COSINE] User Query: Data Analyst\")\n",
    "# print(\"📚 Recommended Courses:\")\n",
    "# for rec in recommendations_cosine:\n",
    "#     print(f\"   - {rec['course_title']} | Score: {rec['score']}\")\n",
    "\n",
    "# print(\"\\n\")\n",
    "\n",
    "# # Output: WMD\n",
    "# print(\"💼 [WMD] User Query: Data Analyst\")\n",
    "# print(\"📚 Recommended Courses:\")\n",
    "# for rec in recommendations_wmd:\n",
    "#     print(f\"   - {rec['course_title']} | Score: {rec['score']}\")\n"
   ]
  },
  {
   "cell_type": "markdown",
   "id": "bad6b212",
   "metadata": {},
   "source": [
    "## Saving Vectorization & Similarity Results"
   ]
  },
  {
   "cell_type": "code",
   "execution_count": null,
   "id": "d561db3d",
   "metadata": {},
   "outputs": [],
   "source": []
  },
  {
   "cell_type": "code",
   "execution_count": null,
   "id": "15268bbe",
   "metadata": {},
   "outputs": [],
   "source": []
  },
  {
   "cell_type": "code",
   "execution_count": null,
   "id": "9262bfdf",
   "metadata": {},
   "outputs": [],
   "source": []
  }
 ],
 "metadata": {
  "kernelspec": {
   "display_name": "base",
   "language": "python",
   "name": "python3"
  },
  "language_info": {
   "codemirror_mode": {
    "name": "ipython",
    "version": 3
   },
   "file_extension": ".py",
   "mimetype": "text/x-python",
   "name": "python",
   "nbconvert_exporter": "python",
   "pygments_lexer": "ipython3",
   "version": "3.9.13"
  }
 },
 "nbformat": 4,
 "nbformat_minor": 5
}
